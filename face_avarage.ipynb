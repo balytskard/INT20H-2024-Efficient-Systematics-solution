{
 "cells": [
  {
   "cell_type": "code",
   "execution_count": 6,
   "metadata": {},
   "outputs": [
    {
     "name": "stdout",
     "output_type": "stream",
     "text": [
      "Requirement already satisfied: matplotlib in /Users/ulanagusar/anaconda3/envs/avar_face/lib/python3.12/site-packages (3.8.3)\n",
      "Requirement already satisfied: contourpy>=1.0.1 in /Users/ulanagusar/anaconda3/envs/avar_face/lib/python3.12/site-packages (from matplotlib) (1.2.0)\n",
      "Requirement already satisfied: cycler>=0.10 in /Users/ulanagusar/anaconda3/envs/avar_face/lib/python3.12/site-packages (from matplotlib) (0.12.1)\n",
      "Requirement already satisfied: fonttools>=4.22.0 in /Users/ulanagusar/anaconda3/envs/avar_face/lib/python3.12/site-packages (from matplotlib) (4.49.0)\n",
      "Requirement already satisfied: kiwisolver>=1.3.1 in /Users/ulanagusar/anaconda3/envs/avar_face/lib/python3.12/site-packages (from matplotlib) (1.4.5)\n",
      "Requirement already satisfied: numpy<2,>=1.21 in /Users/ulanagusar/anaconda3/envs/avar_face/lib/python3.12/site-packages (from matplotlib) (1.26.4)\n",
      "Requirement already satisfied: packaging>=20.0 in /Users/ulanagusar/anaconda3/envs/avar_face/lib/python3.12/site-packages (from matplotlib) (23.2)\n",
      "Requirement already satisfied: pillow>=8 in /Users/ulanagusar/anaconda3/envs/avar_face/lib/python3.12/site-packages (from matplotlib) (10.2.0)\n",
      "Requirement already satisfied: pyparsing>=2.3.1 in /Users/ulanagusar/anaconda3/envs/avar_face/lib/python3.12/site-packages (from matplotlib) (3.1.1)\n",
      "Requirement already satisfied: python-dateutil>=2.7 in /Users/ulanagusar/anaconda3/envs/avar_face/lib/python3.12/site-packages (from matplotlib) (2.9.0)\n",
      "Requirement already satisfied: six>=1.5 in /Users/ulanagusar/anaconda3/envs/avar_face/lib/python3.12/site-packages (from python-dateutil>=2.7->matplotlib) (1.16.0)\n",
      "Requirement already satisfied: opencv-python in /Users/ulanagusar/anaconda3/envs/avar_face/lib/python3.12/site-packages (4.9.0.80)\n",
      "Requirement already satisfied: numpy>=1.21.2 in /Users/ulanagusar/anaconda3/envs/avar_face/lib/python3.12/site-packages (from opencv-python) (1.26.4)\n",
      "Done, models loaded.\n",
      "\n",
      "Found 12 in '/Users/ulanagusar/Desktop/безіменна папка 2'.\n",
      "(1 / 12): /Users/ulanagusar/Desktop/безіменна папка 2/45627112_1966-03-16_2014.jpg\n",
      "(2 / 12): /Users/ulanagusar/Desktop/безіменна папка 2/45638277_1971-02-28_2012.jpg\n",
      "(3 / 12): /Users/ulanagusar/Desktop/безіменна папка 2/45639784_1966-01-19_2014.jpg\n",
      "(4 / 12): /Users/ulanagusar/Desktop/безіменна папка 2/45644510_1940-01-23_2012.jpg\n",
      "(5 / 12): /Users/ulanagusar/Desktop/безіменна папка 2/45660171_1993-04-18_2012.jpg\n",
      "(6 / 12): /Users/ulanagusar/Desktop/безіменна папка 2/45669820_1988-01-06_2014.jpg\n",
      "(7 / 12): /Users/ulanagusar/Desktop/безіменна папка 2/45672725_1993-07-20_2015.jpg\n",
      "(8 / 12): /Users/ulanagusar/Desktop/безіменна папка 2/45677297_1988-05-02_2014.jpg\n",
      "(9 / 12): /Users/ulanagusar/Desktop/безіменна папка 2/45678910_1992-01-08_2015.jpg\n",
      "(10 / 12): /Users/ulanagusar/Desktop/безіменна папка 2/45678924_1993-07-29_2015.jpg\n",
      "(11 / 12): /Users/ulanagusar/Desktop/безіменна папка 2/45678968_1991-11-19_2015.jpg\n",
      "(12 / 12): /Users/ulanagusar/Desktop/безіменна папка 2/45681001_1993-05-04_2014.jpg\n",
      "\n",
      "Starting face landmark detection...\n",
      "Processing 12 images.\n",
      "(1 / 12): /Users/ulanagusar/Desktop/безіменна папка 2/45627112_1966-03-16_2014.jpg\n",
      "(2 / 12): /Users/ulanagusar/Desktop/безіменна папка 2/45638277_1971-02-28_2012.jpg\n",
      "(3 / 12): /Users/ulanagusar/Desktop/безіменна папка 2/45639784_1966-01-19_2014.jpg\n",
      "(4 / 12): /Users/ulanagusar/Desktop/безіменна папка 2/45644510_1940-01-23_2012.jpg\n",
      "(5 / 12): /Users/ulanagusar/Desktop/безіменна папка 2/45660171_1993-04-18_2012.jpg\n",
      "(6 / 12): /Users/ulanagusar/Desktop/безіменна папка 2/45669820_1988-01-06_2014.jpg\n",
      "(7 / 12): /Users/ulanagusar/Desktop/безіменна папка 2/45672725_1993-07-20_2015.jpg\n",
      "(8 / 12): /Users/ulanagusar/Desktop/безіменна папка 2/45677297_1988-05-02_2014.jpg\n",
      "(9 / 12): /Users/ulanagusar/Desktop/безіменна папка 2/45678910_1992-01-08_2015.jpg\n",
      "(10 / 12): /Users/ulanagusar/Desktop/безіменна папка 2/45678924_1993-07-29_2015.jpg\n",
      "(11 / 12): /Users/ulanagusar/Desktop/безіменна папка 2/45678968_1991-11-19_2015.jpg\n",
      "(12 / 12): /Users/ulanagusar/Desktop/безіменна папка 2/45681001_1993-05-04_2014.jpg\n",
      "Skipped 8.3% of images.\n",
      "\n",
      "Starting face averaging for 11 faces.\n",
      "Image 1 / 11\n",
      "Image 2 / 11\n",
      "Image 3 / 11\n",
      "Image 4 / 11\n",
      "Image 5 / 11\n",
      "Image 6 / 11\n",
      "Image 7 / 11\n",
      "Image 8 / 11\n",
      "Image 9 / 11\n",
      "Image 10 / 11\n",
      "Image 11 / 11\n",
      "Done.\n"
     ]
    },
    {
     "ename": "NameError",
     "evalue": "name 'plt' is not defined",
     "output_type": "error",
     "traceback": [
      "\u001b[0;31m---------------------------------------------------------------------------\u001b[0m",
      "\u001b[0;31mNameError\u001b[0m                                 Traceback (most recent call last)",
      "Cell \u001b[0;32mIn[6], line 17\u001b[0m\n\u001b[1;32m     14\u001b[0m average_face \u001b[38;5;241m=\u001b[39m facer\u001b[38;5;241m.\u001b[39mcreate_average_face(faces, landmarks, save_image\u001b[38;5;241m=\u001b[39m\u001b[38;5;28;01mTrue\u001b[39;00m)\n\u001b[1;32m     16\u001b[0m \u001b[38;5;66;03m# View the composite image\u001b[39;00m\n\u001b[0;32m---> 17\u001b[0m \u001b[43mplt\u001b[49m\u001b[38;5;241m.\u001b[39mimshow(average_face)\n\u001b[1;32m     18\u001b[0m plt\u001b[38;5;241m.\u001b[39mshow()\n",
      "\u001b[0;31mNameError\u001b[0m: name 'plt' is not defined"
     ]
    }
   ],
   "source": [
    "#brew install opencv\n",
    "#git clone https://github.com/johnwmillr/facer.git Facer\n",
    "#pip install -r requirements.txt\n",
    "#wget http://dlib.net/files/shape_predictor_68_face_landmarks.dat.bz2\n",
    "\n",
    "\n",
    "\n",
    "from facer import facer\n",
    "\n",
    "# Load face images\n",
    "path_to_images = \"/Users/ulanagusar/Desktop/безіменна папка 2\"\n",
    "images = facer.load_images(path_to_images)\n",
    "\n",
    "# Detect landmarks for each face\n",
    "landmarks, faces = facer.detect_face_landmarks(images)\n",
    "\n",
    "# Use  the detected landmarks to create an average face\n",
    "average_face = facer.create_average_face(faces, landmarks, save_image=True)\n",
    "\n"
   ]
  },
  {
   "cell_type": "code",
   "execution_count": 2,
   "metadata": {},
   "outputs": [
    {
     "name": "stdout",
     "output_type": "stream",
     "text": [
      "Collecting dlib==19.24.2\n",
      "  Using cached dlib-19.24.2-cp312-cp312-macosx_14_0_arm64.whl\n",
      "Installing collected packages: dlib\n",
      "Successfully installed dlib-19.24.2\n"
     ]
    }
   ],
   "source": [
    "!pip install dlib==19.24.2"
   ]
  }
 ],
 "metadata": {
  "kernelspec": {
   "display_name": "avar_face",
   "language": "python",
   "name": "python3"
  },
  "language_info": {
   "codemirror_mode": {
    "name": "ipython",
    "version": 3
   },
   "file_extension": ".py",
   "mimetype": "text/x-python",
   "name": "python",
   "nbconvert_exporter": "python",
   "pygments_lexer": "ipython3",
   "version": "3.12.2"
  }
 },
 "nbformat": 4,
 "nbformat_minor": 2
}
